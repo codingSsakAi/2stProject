{
 "cells": [
  {
   "cell_type": "code",
   "execution_count": 1,
   "id": "0bf1cc35",
   "metadata": {},
   "outputs": [
    {
     "data": {
      "text/html": [
       "\n",
       "<style>\n",
       "div.container{width:95% !important;}\n",
       "div.cell.code_cell.rendered{width:100%;}\n",
       "div.CodeMirror {font-family:Consolas; font-size:15pt;}\n",
       "div.output {font-size:15pt; font-weight:bold;}\n",
       "div.input {font-family:Consolas; font-size:15pt;}\n",
       "div.prompt {min-width:70px;}\n",
       "div#toc-wrapper{padding-top:120px;}\n",
       "div.text_cell_render ul li{font-size:12pt;padding:5px;}\n",
       "table.dataframe{font-size:15px;}\n",
       "</style>\n"
      ],
      "text/plain": [
       "<IPython.core.display.HTML object>"
      ]
     },
     "metadata": {},
     "output_type": "display_data"
    }
   ],
   "source": [
    "from IPython.display import display, HTML\n",
    "display(HTML(\"\"\"\n",
    "<style>\n",
    "div.container{width:95% !important;}\n",
    "div.cell.code_cell.rendered{width:100%;}\n",
    "div.CodeMirror {font-family:Consolas; font-size:15pt;}\n",
    "div.output {font-size:15pt; font-weight:bold;}\n",
    "div.input {font-family:Consolas; font-size:15pt;}\n",
    "div.prompt {min-width:70px;}\n",
    "div#toc-wrapper{padding-top:120px;}\n",
    "div.text_cell_render ul li{font-size:12pt;padding:5px;}\n",
    "table.dataframe{font-size:15px;}\n",
    "</style>\n",
    "\"\"\"))"
   ]
  },
  {
   "cell_type": "markdown",
   "id": "ff3071ca",
   "metadata": {},
   "source": [
    "# <span style=\"color:red\"> PDF파일 데이터 추출 테스트 </span>"
   ]
  },
  {
   "cell_type": "code",
   "execution_count": 3,
   "id": "087d459a",
   "metadata": {},
   "outputs": [
    {
     "name": "stdout",
     "output_type": "stream",
     "text": [
      " 처리 중: 231107_과실비율인정기준_온라인용.pdf\n",
      " 처리 중: (최종)과실비율심의사례_(54MB).pdf\n",
      " 저장 완료: C:\\project\\2stProject_jun\\jun\\과실비율PDF\\과실비율_사고사례_정리본.csv\n"
     ]
    }
   ],
   "source": [
    "import pdfplumber\n",
    "import pandas as pd\n",
    "import os\n",
    "\n",
    "# PDF 파일 경로 (두 파일 지정)\n",
    "pdf_files = [\n",
    "    r\"C:\\project\\2stProject_jun\\jun\\과실비율PDF\\231107_과실비율인정기준_온라인용.pdf\",\n",
    "    r\"C:\\project\\2stProject_jun\\jun\\과실비율PDF\\(최종)과실비율심의사례_(54MB).pdf\"\n",
    "]\n",
    "\n",
    "accidents = []\n",
    "\n",
    "for pdf_path in pdf_files:\n",
    "    print(f\" 처리 중: {os.path.basename(pdf_path)}\")\n",
    "    with pdfplumber.open(pdf_path) as pdf:\n",
    "        for page in pdf.pages:\n",
    "            text = page.extract_text()\n",
    "            if not text:\n",
    "                continue\n",
    "            lines = text.split('\\n')\n",
    "\n",
    "            for line in lines:\n",
    "                # 간단한 조건: 사고 코드 + 과실비율 형태가 포함된 줄만 처리\n",
    "                if (\"차\" in line or \"보\" in line or \"PM\" in line) and \"A\" in line and \"B\" in line and \":\" in line:\n",
    "                    tokens = line.split()\n",
    "                    if len(tokens) >= 5:\n",
    "                        사고유형코드 = tokens[0]\n",
    "                        사고유형명 = tokens[1]\n",
    "                        기본과실비율 = tokens[2]\n",
    "                        수정요소설명 = tokens[3]\n",
    "                        최종사례비율 = tokens[4]\n",
    "\n",
    "                        accidents.append({\n",
    "                            \"사고유형코드\": 사고유형코드,\n",
    "                            \"사고유형명\": 사고유형명,\n",
    "                            \"기본과실비율\": 기본과실비율,\n",
    "                            \"수정요소설명\": 수정요소설명,\n",
    "                            \"최종사례비율\": 최종사례비율,\n",
    "                            \"영상링크\": \"\",\n",
    "                            \"관련판례번호\": \"\"\n",
    "                        })\n",
    "\n",
    "# 저장\n",
    "output_csv = r\"C:\\project\\2stProject_jun\\jun\\과실비율PDF\\과실비율_사고사례_정리본.csv\"\n",
    "df = pd.DataFrame(accidents)\n",
    "df.to_csv(output_csv, index=False, encoding='utf-8-sig')\n",
    "\n",
    "print(f\" 저장 완료: {output_csv}\")"
   ]
  },
  {
   "cell_type": "code",
   "execution_count": null,
   "id": "b8d76707",
   "metadata": {},
   "outputs": [],
   "source": []
  }
 ],
 "metadata": {
  "kernelspec": {
   "display_name": "Python (gpudm)",
   "language": "python",
   "name": "gpudm"
  },
  "language_info": {
   "codemirror_mode": {
    "name": "ipython",
    "version": 3
   },
   "file_extension": ".py",
   "mimetype": "text/x-python",
   "name": "python",
   "nbconvert_exporter": "python",
   "pygments_lexer": "ipython3",
   "version": "3.10.9"
  }
 },
 "nbformat": 4,
 "nbformat_minor": 5
}
